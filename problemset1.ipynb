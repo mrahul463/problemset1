{
 "cells": [
  {
   "cell_type": "markdown",
   "id": "da757f64",
   "metadata": {},
   "source": [
    "# ProblemSet 1\n"
   ]
  },
  {
   "cell_type": "markdown",
   "id": "7164e74d",
   "metadata": {},
   "source": [
    "## Question 1"
   ]
  },
  {
   "cell_type": "markdown",
   "id": "a789f8a4",
   "metadata": {},
   "source": [
    "What data type is each of the following (evaluate where necessary)?"
   ]
  },
  {
   "cell_type": "markdown",
   "id": "4a30aec1",
   "metadata": {},
   "source": [
    "The data type for each of the following expressions is as follows:\n",
    "\n",
    "5: Integer\n",
    "\n",
    "5.0: Float \n",
    "\n",
    "5 > 1: Boolean (True) \n",
    "\n",
    "'5': String \n",
    "\n",
    "5 * 2: Integer \n",
    "\n",
    "'5' * 2: String \n",
    "\n",
    "'5' + '2': String \n",
    "\n",
    "5 / 2: Float \n",
    "\n",
    "5 % 2: Integer \n",
    "\n",
    "{5, 2, 1}: Set 5 == 3: Boolean (False)\n",
    "\n",
    "Pi (number): Float (the value of pi is 3.14159 so it is a float)\n"
   ]
  },
  {
   "cell_type": "markdown",
   "id": "af203dfc",
   "metadata": {},
   "source": [
    "## Question 2"
   ]
  },
  {
   "cell_type": "markdown",
   "id": "ff8e5cbc",
   "metadata": {},
   "source": [
    "Write (and evaluate) python expressions that answer these questions:"
   ]
  },
  {
   "cell_type": "markdown",
   "id": "cf7e32da",
   "metadata": {},
   "source": [
    "a. How many letters are there in 'Supercalifragilisticexpialidocious'?"
   ]
  },
  {
   "cell_type": "code",
   "execution_count": 1,
   "id": "25903ad4",
   "metadata": {},
   "outputs": [
    {
     "name": "stdout",
     "output_type": "stream",
     "text": [
      "The length of Supercalifragilisticexpialidocious is 34\n"
     ]
    }
   ],
   "source": [
    "Name = 'Supercalifragilisticexpialidocious'\n",
    "NameLength = len(Name)\n",
    "\n",
    "print(f\"The length of {Name} is {NameLength}\")"
   ]
  },
  {
   "cell_type": "markdown",
   "id": "050827b2",
   "metadata": {},
   "source": [
    "b. Does 'Supercalifragilisticexpialidocious' contain 'ice' as a substring? "
   ]
  },
  {
   "cell_type": "code",
   "execution_count": 23,
   "id": "26a53a26",
   "metadata": {},
   "outputs": [
    {
     "name": "stdout",
     "output_type": "stream",
     "text": [
      "True the word Supercalifragilisticexpialidocious contains the letters of ice\n"
     ]
    }
   ],
   "source": [
    "Name = 'Supercalifragilisticexpialidocious'\n",
    "subString = 'ice'\n",
    "\n",
    "containsString  = subString in Name\n",
    "print(f\"{containsString} the word in {Name} contains the letters of {subString}\")"
   ]
  },
  {
   "cell_type": "markdown",
   "id": "51b71f54",
   "metadata": {},
   "source": [
    "c. Which of the following words is the longest: \n",
    "Supercalifragilisticexpialidocious, Honorificabilitudinitatibus, or \n",
    "Bababadalgharaghtakamminarronnkonn?"
   ]
  },
  {
   "cell_type": "code",
   "execution_count": 2,
   "id": "17e9885e",
   "metadata": {},
   "outputs": [
    {
     "name": "stdout",
     "output_type": "stream",
     "text": [
      "The longest word is Supercalifragilisticexpialidocious\n"
     ]
    }
   ],
   "source": [
    "word_a = 'Supercalifragilisticexpialidocious'\n",
    "word_b = 'Honorificabilitudinitatibus'\n",
    "word_c = 'Bababadalgharaghtakamminarronnkonn'\n",
    "\n",
    "LongestWord = max(word_a, word_b, word_c, key=len) ## check the max value comparing with the len\n",
    "print(f\"The longest word is {LongestWord}\")"
   ]
  },
  {
   "cell_type": "markdown",
   "id": "27a1236c",
   "metadata": {},
   "source": [
    "d. Which composer comes first in the dictionary: 'Berlioz', 'Borodin', 'Brian', \n",
    "'Bartok', 'Bellini', 'Buxtehude', 'Bernstein'. Which one comes last?"
   ]
  },
  {
   "cell_type": "code",
   "execution_count": 25,
   "id": "24b8202a",
   "metadata": {},
   "outputs": [
    {
     "name": "stdout",
     "output_type": "stream",
     "text": [
      "First composer is  Bartok\n",
      "Last composer is  Buxtehude\n"
     ]
    }
   ],
   "source": [
    "composersDictionary = ['Berlioz', 'Borodin', 'Brian', 'Bartok', 'Bellini', 'Buxtehude', 'Bernstein']\n",
    "\n",
    "firstComposer = min(composersDictionary)\n",
    "lastComposer = max(composersDictionary)\n",
    "\n",
    "print(\"First composer is \", firstComposer)\n",
    "print(\"Last composer is \", lastComposer)"
   ]
  },
  {
   "cell_type": "markdown",
   "id": "55b31850",
   "metadata": {},
   "source": [
    "## Question 3"
   ]
  },
  {
   "cell_type": "markdown",
   "id": "14ea74df",
   "metadata": {},
   "source": [
    "Implement function triangleArea(a,b,c) that takes as input the lengths of the 3\n",
    "sides of a triangle and returns the area of the triangle. By Heron's formula, the area \n",
    "of a triangle with side lengths a, b, and c is\n",
    "s(s - a)(s -b)(s -c)\n",
    ", where \n",
    "s = (a+b+c)/2. \n",
    ">>> triangleArea(2,2,2)\n",
    "1.7320508075688772\n"
   ]
  },
  {
   "cell_type": "code",
   "execution_count": 26,
   "id": "1c7f9f84",
   "metadata": {},
   "outputs": [
    {
     "name": "stdout",
     "output_type": "stream",
     "text": [
      "1.7320508075688772\n"
     ]
    }
   ],
   "source": [
    "import math\n",
    "\n",
    "def triangleArea(a, b, c):\n",
    "    s = (a + b + c) / 2\n",
    "    area = math.sqrt(s * (s - a) * (s - b) * (s - c))\n",
    "    return area\n",
    "\n",
    "print(triangleArea(2, 2, 2))"
   ]
  },
  {
   "cell_type": "markdown",
   "id": "55330f26",
   "metadata": {},
   "source": [
    "## Question 4"
   ]
  },
  {
   "cell_type": "markdown",
   "id": "1427ca8d",
   "metadata": {},
   "source": [
    " Write a program in python to separate odd and even integers in separate arrays. Go \n",
    "to the editor\n",
    "\n",
    "Test Data :\n",
    "    \n",
    "Input the number of elements to be stored in the array :5\n",
    "    \n",
    "Input 5 elements in the array :\n",
    "    \n",
    "element - 0 : 25\n",
    "    \n",
    "element - 1 : 47\n",
    "    \n",
    "element - 2 : 42\n",
    "    \n",
    "element - 3 : 56\n",
    "    \n",
    "element - 4 : 32\n",
    "    \n",
    "Expected Output:\n",
    "    \n",
    "The Even elements are:\n",
    "    \n",
    "42 56 32\n",
    "\n",
    "The Odd elements are :\n",
    "    \n",
    "25 47\n"
   ]
  },
  {
   "cell_type": "code",
   "execution_count": 3,
   "id": "bbe500cf",
   "metadata": {},
   "outputs": [
    {
     "name": "stdout",
     "output_type": "stream",
     "text": [
      "Input the number of element you want to store\n",
      "3\n",
      "Element in 0 index is 7\n",
      "Element in 1 index is 3\n",
      "Element in 2 index is 5\n",
      "\n",
      "The even values are \n",
      "\n",
      "The odd values are \n",
      "7 3 5 \n",
      "\n"
     ]
    }
   ],
   "source": [
    "def checkEvenOdd(myInputElement):\n",
    "    OddList = []\n",
    "    EvenList = []\n",
    "    \n",
    "    for num in myInputElement:\n",
    "        if num % 2 == 0:\n",
    "            EvenList.append(num)\n",
    "        else:\n",
    "            OddList.append(num)\n",
    "    \n",
    "    return OddList, EvenList\n",
    "\n",
    "# execute the code\n",
    "lengthList = int(input(\"Input the number of element you want to store\\n\"))\n",
    "InputList = []\n",
    "\n",
    "# the range will set the total length of the list\n",
    "for i in range(lengthList):   #ex: for i in range(6); mean user can set 6 values in the list\n",
    "    element = int(input(f\"Element in {i} index is \"))\n",
    "    InputList.append(element)\n",
    "\n",
    "# Separate odd and even userInputList\n",
    "oddValues, evenValues = checkEvenOdd(InputList)\n",
    "\n",
    "# Print the output with even and odd values\n",
    "print(\"\\nThe even values are \")\n",
    "for num in evenValues:\n",
    "    print(num, end=\" \")\n",
    "\n",
    "print(\"\\nThe odd values are \")\n",
    "for num in oddValues:\n",
    "    print(num, end=\" \")\n",
    "\n",
    "print(\"\\n\")"
   ]
  },
  {
   "cell_type": "markdown",
   "id": "4ae3e512",
   "metadata": {},
   "source": [
    "## Question 5"
   ]
  },
  {
   "cell_type": "markdown",
   "id": "40335834",
   "metadata": {},
   "source": [
    "a. Write a function inside(x,y,x1,y1,x2,y2) that returns True or False \n",
    "depending on whether the point (x,y) lies in the rectangle with lower left \n",
    "corner (x1,y1) and upper right corner (x2,y2).\n",
    ">>> inside(1,1,0,0,2,3)\n",
    "True\n",
    ">>> inside(-1,-1,0,0,2,3)\n",
    "False"
   ]
  },
  {
   "cell_type": "code",
   "execution_count": 36,
   "id": "00a679f2",
   "metadata": {},
   "outputs": [
    {
     "name": "stdout",
     "output_type": "stream",
     "text": [
      "True\n",
      "False\n"
     ]
    }
   ],
   "source": [
    "def inside(x, y, x1, y1, x2, y2):\n",
    "    if x >= x1 and x <= x2 and y >= y1 and y <= y2:\n",
    "        return True\n",
    "    else:\n",
    "        return False\n",
    "\n",
    "print(inside(1, 1, 0, 0, 2, 3))   # expected to be True\n",
    "print(inside(-1, -1, 0, 0, 2, 3)) # expected to be False"
   ]
  },
  {
   "cell_type": "markdown",
   "id": "6cb4c3f4",
   "metadata": {},
   "source": [
    "b. Use function inside() from part a. to write an expression that tests whether \n",
    "the point (1,1) lies in both of the following rectangles: one with lower left \n",
    "corner (0.3, 0.5) and upper right corner (1.1, 0.7) and the other with lower \n",
    "left corner (0.5, 0.2) and upper right corner (1.1, 2). "
   ]
  },
  {
   "cell_type": "code",
   "execution_count": 30,
   "id": "66c866ef",
   "metadata": {},
   "outputs": [
    {
     "name": "stdout",
     "output_type": "stream",
     "text": [
      "The result is False\n"
     ]
    }
   ],
   "source": [
    "point = (1, 1)\n",
    "rectangle1 = (0.3, 0.5, 1.1, 0.7)\n",
    "rectangle2 = (0.5, 0.2, 1.1, 2)\n",
    "\n",
    "result = inside(point[0], \n",
    "                point[1], \n",
    "                rectangle1[0], \n",
    "                rectangle1[1], \n",
    "                rectangle1[2], \n",
    "                rectangle1[3]) and inside(point[0], \n",
    "                                          point[1], \n",
    "                                          rectangle2[0], \n",
    "                                          rectangle2[1], \n",
    "                                          rectangle2[2], \n",
    "                                          rectangle2[3]\n",
    "                )  \n",
    "\n",
    "print(f\"The result is {result}\");"
   ]
  },
  {
   "cell_type": "markdown",
   "id": "9ba04256",
   "metadata": {},
   "source": [
    "## Question 6"
   ]
  },
  {
   "cell_type": "markdown",
   "id": "93849ff9",
   "metadata": {},
   "source": [
    "You can turn a word into pig-Latin using the following two rules (simplified):\n",
    "• If the word starts with a consonant, move that letter to the end and append \n",
    "'ay'. For example, 'happy' becomes 'appyhay' and 'pencil' becomes 'encilpay'.\n",
    "• If the word starts with a vowel, simply append 'way' to the end of the word. \n",
    "For example, 'enter' becomes 'enterway' and 'other' becomes 'otherway' . For \n",
    "our purposes, there are 5 vowels: a, e, i, o, u (so we count y as a consonant).\n",
    "Write a function pig() that takes a word (i.e., a string) as input and returns its pig\u0002Latin form. Your function should still work if the input word contains upper case \n",
    "characters. Your output should always be lower case however. \n",
    ">>> pig('happy')\n",
    "'appyhay'\n",
    ">>> pig('Enter')\n",
    "'enterway' \n"
   ]
  },
  {
   "cell_type": "code",
   "execution_count": 4,
   "id": "5a7113c8",
   "metadata": {},
   "outputs": [
    {
     "name": "stdout",
     "output_type": "stream",
     "text": [
      "excitedway\n",
      "oneday\n"
     ]
    }
   ],
   "source": [
    "def pigfunction(word):\n",
    "    word = word.lower()  # change all the letters to lowercase\n",
    "    \n",
    "    # check whether the letter is starts with volume letter\n",
    "    if word[0] in 'aeiou':  \n",
    "        pigLatin = word + 'way'\n",
    "    else:  # else the word starts with a consonant letter\n",
    "        pigLatin = word[1:] + word[0] + 'ay'\n",
    "    \n",
    "    return pigLatin\n",
    "\n",
    "print(pigfunction('excited'))  # 'appyhay'\n",
    "print(pigfunction('done'))  # 'enterway'"
   ]
  },
  {
   "cell_type": "markdown",
   "id": "e3b5202b",
   "metadata": {},
   "source": [
    "## Question 7"
   ]
  },
  {
   "cell_type": "markdown",
   "id": "d3247950",
   "metadata": {},
   "source": [
    "File bloodtype1.txt records blood-types of patients (A, B, AB, O or OO) at a clinic. \n",
    "Write a function bldcount() that reads the file with name name and reports (i.e., \n",
    "prints) how many patients there are in each bloodtype.\n",
    ">>> bldcount('bloodtype.txt')\n",
    "There are 10 patients of blood type A.\n",
    "There is one patient of blood type B.\n",
    "There are 10 patients of blood type AB.\n",
    "There are 12 patients of blood type O.\n",
    "There are no patients of blood type OO.\n"
   ]
  },
  {
   "cell_type": "code",
   "execution_count": 1,
   "id": "d2f74356",
   "metadata": {},
   "outputs": [
    {
     "name": "stdout",
     "output_type": "stream",
     "text": [
      "There are 15 patients of blood type A.\n",
      "There is one patient of blood type B.\n",
      "There are 13 patients of blood type AB.\n",
      "There are 15 patients of blood type O.\n",
      "There are 0 patients of blood type OO.\n"
     ]
    }
   ],
   "source": [
    "def bloodCountFunction(name):\n",
    "    # initialize dictionary \n",
    "    blood_counts = {'A': 0, 'B': 0, 'AB': 0, 'O': 0, 'OO': 0}\n",
    "    \n",
    "    # open the file and read its contents\n",
    "    with open(name, 'r') as file:\n",
    "        bloodtypes = file.read().split()\n",
    "        \n",
    "    # Count each blood type\n",
    "    for bloodtype in bloodtypes:\n",
    "        blood_counts[bloodtype] += 1\n",
    "    \n",
    "    # print the results\n",
    "    for bloodtype, count in blood_counts.items():\n",
    "        if count == 1:\n",
    "            print(\"There is one patient of blood type\", bloodtype + '.')\n",
    "        else:\n",
    "            print(\"There are\", count, \"patients of blood type\", bloodtype + '.')\n",
    "\n",
    "# pass function\n",
    "bloodCountFunction('bloodtype1.txt')\n"
   ]
  },
  {
   "cell_type": "markdown",
   "id": "f4f5a23e",
   "metadata": {},
   "source": [
    "## Question 8"
   ]
  },
  {
   "cell_type": "markdown",
   "id": "95657170",
   "metadata": {},
   "source": [
    "Write a function curconv() that takes as input:\n",
    "\n",
    "1. a currency represented using a string (e.g., 'JPY' for the Japanese Yen or \n",
    "'EUR' for the Euro)\n",
    "\n",
    "2. an amount\n",
    "\n",
    "and then converts and returns the amount in US dollars.\n",
    "\n",
    ">>> curconv('EUR', 100)\n",
    "\n",
    "122.96544\n",
    "\n",
    ">>> curconv('JPY', 100)\n",
    "\n",
    "1.241401\n",
    "\n",
    "The currency rates you will need are stored in file currencies.txt:\n",
    "\n",
    "AUD 1.0345157 Australian Dollar\n",
    "\n",
    "CHF 1.0237414 Swiss Franc\n",
    "\n",
    "CNY 0.1550176 Chinese Yuan\n",
    "\n",
    "DKK 0.1651442 Danish Krone\n",
    "\n",
    "EUR 1.2296544 Euro\n",
    "\n",
    "GBP 1.5550989 British Pound\n",
    "\n",
    "HKD 0.1270207 Hong Kong Dollar\n",
    "\n",
    "INR 0.0177643 Indian Rupee\n",
    "\n",
    "JPY 0.01241401 Japanese Yen\n",
    "\n",
    "MXN 0.0751848 Mexican Peso\n",
    "\n",
    "MYR 0.3145411 Malaysian Ringgit\n",
    "\n",
    "NOK 0.1677063 Norwegian Krone\n",
    "\n",
    "NZD 0.8003591 New Zealand Dollar\n",
    "\n",
    "PHP 0.0233234 Philippine Peso\n",
    "\n",
    "SEK 0.148269 Swedish Krona\n",
    "\n",
    "SGD 0.788871 Singapore Dollar\n",
    "\n",
    "THB 0.0313789 Thai Baht\n",
    "\n"
   ]
  },
  {
   "cell_type": "code",
   "execution_count": 37,
   "id": "70ac6cb2",
   "metadata": {},
   "outputs": [
    {
     "name": "stdout",
     "output_type": "stream",
     "text": [
      "122.96544\n",
      "1.241401\n"
     ]
    }
   ],
   "source": [
    "def currencyConverter(currencyInd, amount):\n",
    "    # so we need to read the file i.e. currencies.text \n",
    "    currencyExchangeRates = {}\n",
    "    with open('currencies.txt', 'r') as file:\n",
    "        for line in file:\n",
    "            currency_info = line.split()\n",
    "            currency = currency_info[0]\n",
    "            exchangeRate = float(currency_info[1])\n",
    "            currencyExchangeRates[currency] = exchangeRate\n",
    "\n",
    "    # and convert the amount into US dollar\n",
    "    if currencyInd in currencyExchangeRates:\n",
    "        usAmount = amount * currencyExchangeRates[currencyInd]\n",
    "        return usAmount\n",
    "    else:\n",
    "        return 'Not a valid currency'\n",
    "\n",
    "## we need to call a function to convert the curr\n",
    "print(currencyConverter('EUR', 100))  \n",
    "print(currencyConverter('JPY', 100))  "
   ]
  },
  {
   "cell_type": "markdown",
   "id": "856170e3",
   "metadata": {},
   "source": [
    "## Question 9"
   ]
  },
  {
   "cell_type": "markdown",
   "id": "5f1127d7",
   "metadata": {},
   "source": [
    "Each of the following will cause an exception (an error). Identify what type of \n",
    "exception each will cause.\n",
    "\n",
    "Trying to add incompatible variables, as in \n",
    "adding 6 + ‘a’\n",
    "\n",
    "Referring to the 12th item of a list that has only 10 \n",
    "items\n",
    "\n",
    "Using a value that is out of range for a function’s \n",
    "input, such as calling math.sqrt(-1.0)\n",
    "\n",
    "Using an undeclared variable, such as print(x)\n",
    "when x has not been defined \n",
    "\n",
    "Trying to open a file that does not exist, such as \n",
    "mistyping the file name or looking in the wrong \n",
    "directory."
   ]
  },
  {
   "cell_type": "markdown",
   "id": "24887414",
   "metadata": {},
   "source": [
    "In all the 5 different situations, we can get a different type of exceptions. They are given below. \n",
    "\n",
    "1. Trying to add incompatible variables, as in adding 6 + 'a':\n",
    "\n",
    "- A TypeError exception will occur because it can’t perform an addition between integer datatype and string datatype.\n",
    "\n",
    "\n",
    "2. Referring to the 12th item of a list that has only 10 items:\n",
    "\n",
    "- An IndexError exception will occur because we only have a 0 items in a list and it is trying to get an item which is outside the range of the list.\n",
    "\n",
    "\n",
    "3. Using a value that is out of range for a function's input, such as calling math.sqrt(-1.0):\n",
    "\n",
    "- A ValueError exception will occur because math.srt() function require non-negative number so the negative number will be out of the valid range.\n",
    "\n",
    "\n",
    "4. Using an undeclared variable, such as print(x) when x has not been defined:\n",
    "\n",
    "- A NameError exception will occur because it can’t find the value which is not declared or initialized ahead of print(x) \n",
    "\n",
    "\n",
    "5. Trying to open a file that does not exist, such as mistyping the file name or looking in the wrong directory:\n",
    "\n",
    "- FileNotFoundError exception will occur because it will try to open the filename from the specific path and if it is incorrect it causes the error i.e. FileNotFoundError due to invalid dictionary. \n",
    "\n"
   ]
  },
  {
   "cell_type": "markdown",
   "id": "13fb9aca",
   "metadata": {},
   "source": [
    "## Question 10 "
   ]
  },
  {
   "cell_type": "markdown",
   "id": "64d78f50",
   "metadata": {},
   "source": [
    "Encryption is the process of hiding the meaning of a text by substituting letters in the \n",
    "message with other letters, according to some system. If the process is successful, no \n",
    "one but the intended recipient can understand the encrypted message. Cryptanalysis\n",
    "refers to attempts to undo the encryption, even if some details of the encryption are \n",
    "unknown (for example, if an encrypted message has been intercepted). The first step \n",
    "of cryptanalysis is often to build up a table of letter frequencies in the encrypted text. \n",
    "Assume that the string letters is already defined as \n",
    "'abcdefghijklmnopqrstuvwxyz'. Write a function called frequencies()\n",
    "that takes a string as its only parameter, and returns a list of integers, showing the \n",
    "number of times each character appears in the text. Your function may ignore any \n",
    "characters that are not in letters. \n",
    "\n",
    ">>> frequencies('The quick red fox got bored and went home.')\n",
    "[1, 1, 1, 3, 5, 1, 1, 2, 1, 0, 1, 0, 1, 2, 4, 0, 1, 2, 0, 2, \n",
    "1, 0, 1, 1, 0, 0]\n",
    ">>> frequencies('apple')"
   ]
  },
  {
   "cell_type": "code",
   "execution_count": 34,
   "id": "98b8ee78",
   "metadata": {},
   "outputs": [
    {
     "name": "stdout",
     "output_type": "stream",
     "text": [
      "[1, 1, 1, 3, 5, 1, 1, 2, 1, 0, 1, 0, 1, 2, 4, 0, 1, 2, 0, 3, 1, 0, 1, 1, 0, 0]\n",
      "[1, 0, 0, 0, 1, 0, 0, 0, 0, 0, 0, 1, 0, 0, 0, 2, 0, 0, 0, 0, 0, 0, 0, 0, 0, 0]\n"
     ]
    }
   ],
   "source": [
    "def frequencies(text):\n",
    "    allLetters = 'abcdefghijklmnopqrstuvwxyz'\n",
    "    text = text.lower()  # for case insensitive we need to convert all the text into lower case\n",
    "    countValue = [0] * len(allLetters) # length of a allLetters\n",
    "\n",
    "    for c in text:\n",
    "        if c in allLetters:\n",
    "            index = allLetters.index(c)\n",
    "            countValue[index] += 1\n",
    "\n",
    "    return countValue\n",
    "\n",
    "\n",
    "print(frequencies('The quick red fox got bored and went home.'))\n",
    "print(frequencies('apple'))"
   ]
  },
  {
   "cell_type": "code",
   "execution_count": null,
   "id": "b5db6ab9",
   "metadata": {},
   "outputs": [],
   "source": []
  }
 ],
 "metadata": {
  "kernelspec": {
   "display_name": "Python 3 (ipykernel)",
   "language": "python",
   "name": "python3"
  },
  "language_info": {
   "codemirror_mode": {
    "name": "ipython",
    "version": 3
   },
   "file_extension": ".py",
   "mimetype": "text/x-python",
   "name": "python",
   "nbconvert_exporter": "python",
   "pygments_lexer": "ipython3",
   "version": "3.9.7"
  }
 },
 "nbformat": 4,
 "nbformat_minor": 5
}
